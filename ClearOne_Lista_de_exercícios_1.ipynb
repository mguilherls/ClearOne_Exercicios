{
  "cells": [
    {
      "cell_type": "markdown",
      "id": "17feb2d5",
      "metadata": {
        "id": "17feb2d5"
      },
      "source": [
        "# 📝 ClearOne - Lista de Exercícios 1 – Python"
      ]
    },
    {
      "cell_type": "markdown",
      "id": "defc1e90",
      "metadata": {
        "id": "defc1e90"
      },
      "source": [
        "## Exercício 1\n",
        "Faça um programa que escreva o seu nome completo em python"
      ]
    },
    {
      "cell_type": "code",
      "execution_count": 3,
      "id": "6fe21a06",
      "metadata": {
        "colab": {
          "base_uri": "https://localhost:8080/"
        },
        "id": "6fe21a06",
        "outputId": "9643865f-1697-43bc-c23d-451f1a8b6fff"
      },
      "outputs": [
        {
          "output_type": "stream",
          "name": "stdout",
          "text": [
            "Digite seu nome completo: Matheus Guilherme de Lima Silva\n",
            "Olá Matheus Guilherme de Lima Silva, tudo bem ?\n"
          ]
        }
      ],
      "source": [
        "nome = input(\"Digite seu nome completo: \")\n",
        "\n",
        "print(f\"Olá {nome}, tudo bem ?\")"
      ]
    },
    {
      "cell_type": "markdown",
      "id": "5acf218a",
      "metadata": {
        "id": "5acf218a"
      },
      "source": [
        "## Exercício 2\n",
        "Qual é o tipo de dado (int ou float) do resultado de cada uma das operações matemáticas abaixo?\n",
        "\n",
        "a- 8 ÷ 4 + 2 × 3  \n",
        "b - 15 - 4 × 2 + 10  \n",
        "c- (10 - 3) × (5 + 2)  \n",
        "d- 100 ÷ (5 + 5)  \n",
        "e- 2^3 + 4  \n",
        "f- 7 + 3 × (10 ÷ 2)  \n",
        "j- (8 + 2) × 3 - 5  \n",
        "h- 50 ÷ 5 + √16  \n",
        "i- 5 + √25 × 2 - 3  \n",
        "j -20 - 4 × (√9 + 1)\n",
        "\n",
        "\n"
      ]
    },
    {
      "cell_type": "code",
      "execution_count": 8,
      "id": "4f3b95b9",
      "metadata": {
        "colab": {
          "base_uri": "https://localhost:8080/"
        },
        "id": "4f3b95b9",
        "outputId": "013abfde-3f40-44d8-e597-94a2e1a2e077"
      },
      "outputs": [
        {
          "output_type": "stream",
          "name": "stdout",
          "text": [
            "<class 'float'>\n",
            "<class 'int'>\n",
            "<class 'int'>\n",
            "<class 'float'>\n",
            "<class 'int'>\n",
            "<class 'float'>\n",
            "<class 'int'>\n",
            "<class 'float'>\n",
            "<class 'float'>\n",
            "<class 'float'>\n"
          ]
        }
      ],
      "source": [
        "print(type(8 / 4 + 2 * 3))\n",
        "print(type(15 - 4 * 2 + 10))\n",
        "print(type((10 - 3) * (5 + 2)))\n",
        "print(type(100 / (5 + 5)))\n",
        "print(type(2 ** 3 + 4))\n",
        "print(type(7 + 3 * (10 / 2)))\n",
        "print(type((8 + 2) * 3 - 5))\n",
        "print(type(50 / 5 + 16 ** 0.5))\n",
        "print(type(5 + 25 ** 0.5 * 2 - 3))\n",
        "print(type(20 - 4 * (9 + 1) ** 0.5))"
      ]
    },
    {
      "cell_type": "markdown",
      "id": "76e1d51d",
      "metadata": {
        "id": "76e1d51d"
      },
      "source": [
        "## Exercício 3\n",
        "Qual é o resultado das expressões do  quando executadas no Python?\n",
        "\n",
        "Faça na mão primeiro, e confira o resultado no código depois."
      ]
    },
    {
      "cell_type": "code",
      "execution_count": 10,
      "id": "85a93076",
      "metadata": {
        "colab": {
          "base_uri": "https://localhost:8080/"
        },
        "id": "85a93076",
        "outputId": "e367e5bb-feae-4b56-e1de-176b6d045d46"
      },
      "outputs": [
        {
          "output_type": "stream",
          "name": "stdout",
          "text": [
            "Resultado A: 8.0\n",
            "Resultado B: 17\n",
            "Resultado C: 49\n",
            "Resultado D: 10.0\n",
            "Resultado E: 12\n",
            "Resultado F: 22.0\n",
            "Resultado G: 25\n",
            "Resultado H: 14.0\n",
            "Resultado I: 12.0\n",
            "Resultado J: 4.0\n"
          ]
        }
      ],
      "source": [
        "# Vamos criar uma variavel para cada calculo\n",
        "resultado_a = 8 / 4 + 2 * 3\n",
        "resultado_b = 15 - 4 * 2 + 10\n",
        "resultado_c = (10 - 3) * (5 + 2)\n",
        "resultado_d = 100 / (5 + 5)\n",
        "resultado_e = 2 ** 3 + 4\n",
        "resultado_f = 7 + 3 * (10 / 2)\n",
        "resultado_g = (8 + 2) * 3 - 5\n",
        "resultado_h = 50 / 5 + 16 ** (1/2)\n",
        "resultado_i = 5 + 25 ** (1/2) * 2 - 3\n",
        "resultado_j = 20 - 4 * (9 ** (1/2) + 1)\n",
        "\n",
        "# Imprimir o resultado\n",
        "print(\"Resultado A:\", resultado_a)\n",
        "print(\"Resultado B:\", resultado_b)\n",
        "print(\"Resultado C:\", resultado_c)\n",
        "print(\"Resultado D:\", resultado_d)\n",
        "print(\"Resultado E:\", resultado_e)\n",
        "print(\"Resultado F:\", resultado_f)\n",
        "print(\"Resultado G:\", resultado_g)\n",
        "print(\"Resultado H:\", resultado_h)\n",
        "print(\"Resultado I:\", resultado_i)\n",
        "print(\"Resultado J:\", resultado_j)"
      ]
    },
    {
      "cell_type": "markdown",
      "id": "02a06730",
      "metadata": {
        "id": "02a06730"
      },
      "source": [
        "## Exercício 4\n",
        "Crie três variáveis para armazenar as seguintes informações: seu nome, sua idade e seu hobby favorito.\n",
        "\n",
        "Use f-strings para criar uma mensagem que inclua as três variáveis e imprima a mensagem no console."
      ]
    },
    {
      "cell_type": "code",
      "execution_count": 2,
      "id": "194e0ea7",
      "metadata": {
        "colab": {
          "base_uri": "https://localhost:8080/"
        },
        "id": "194e0ea7",
        "outputId": "a1b835d4-8e1e-4ea9-be69-09af889d0dcf"
      },
      "outputs": [
        {
          "output_type": "stream",
          "name": "stdout",
          "text": [
            "Olá ! Meus nome é Matheus, tenho 29 anos e gosto de praticar Jiu jitsu\n"
          ]
        }
      ],
      "source": [
        "nome = 'Matheus'\n",
        "idade = 29\n",
        "hobby = 'Jiu jitsu'\n",
        "\n",
        "print(f'Olá ! Meus nome é {nome}, tenho {idade} anos e gosto de praticar {hobby}')"
      ]
    },
    {
      "cell_type": "markdown",
      "id": "1199c0af",
      "metadata": {
        "id": "1199c0af"
      },
      "source": [
        "## Exercício 5\n",
        "Você está trabalhando em um sistema para calcular o salário de um funcionário baseado em algumas variáveis, como o salário base, o bônus e os descontos. O código foi feito por outra pessoa e está apresentando um erro. Execute o código, identifique o erro e corrija-o. Justifique a sua correção com um comentário # acima do que foi corrigido."
      ]
    },
    {
      "cell_type": "code",
      "execution_count": 3,
      "id": "6823582f",
      "metadata": {
        "colab": {
          "base_uri": "https://localhost:8080/"
        },
        "id": "6823582f",
        "outputId": "dfbd73cc-2e35-44b0-acb0-534965770879"
      },
      "outputs": [
        {
          "output_type": "stream",
          "name": "stdout",
          "text": [
            "O salário líquido é 3700.0.\n"
          ]
        }
      ],
      "source": [
        "salario_base = 3500.00\n",
        "bonus = 500.00\n",
        "# O erro estava na variavel 'desconto' que nao foi declarada.\n",
        "# Corrigi a variável 'Descontos' que estava com D maiúsculo.\n",
        "descontos = 300.00\n",
        "\n",
        "salario_liquido = salario_base + bonus - descontos\n",
        "print(f\"O salário líquido é {salario_liquido}.\")"
      ]
    },
    {
      "cell_type": "markdown",
      "id": "e97b7420",
      "metadata": {
        "id": "e97b7420"
      },
      "source": [
        "## Exercício 6\n",
        "Suponha que uma empresa tem um código de produto no formato PROD-XXXX, onde XXXX são dígitos de 0 a 9, e ela deseja verificar se os códigos segue o formato correto. Por exemplo, PROD-1234 é válido, mas prod-1234 e PROD1234 não são.\n",
        "\n",
        "Faça um programa que retorne se o código prod0000 é válido ou não, justificando sua resposta."
      ]
    },
    {
      "cell_type": "code",
      "execution_count": 25,
      "id": "a0849522",
      "metadata": {
        "colab": {
          "base_uri": "https://localhost:8080/"
        },
        "id": "a0849522",
        "outputId": "e3009b40-2a62-4892-ad5d-78d5f02ccbb0"
      },
      "outputs": [
        {
          "output_type": "stream",
          "name": "stdout",
          "text": [
            "Código inválido\n"
          ]
        }
      ],
      "source": [
        "codigo_informado = 'prod0000'\n",
        "\n",
        "#A quantidade de caracteres do valor informado é diferente de 9 ?\n",
        "if len(codigo_informado) != 9:\n",
        "  print('Código inválido')\n",
        "# O os 5 primeiros caracteres são diferente de 'PROD-'\n",
        "elif codigo_informado[:5] != 'PROD-':\n",
        " print('Código inválido')\n",
        "# Valida se os numero após PROD- sao de 0 a 9\n",
        "elif codigo_informado[5] < '0' or codigo_informado[5] > '9':\n",
        "  print('Código inválido')\n",
        "elif codigo_informado[6] < '0' or codigo_informado[6] > '9':\n",
        "  print('Código inválido')\n",
        "elif codigo_informado[7] < '0' or codigo_informado[7] > '9':\n",
        "  print('Código inválido')\n",
        "elif codigo_informado[8] < '0' or codigo_informado[8] > '9':\n",
        "  print('Código inválido')\n",
        "else:\n",
        "  print('Código válido')\n"
      ]
    },
    {
      "cell_type": "markdown",
      "source": [
        "### 6 - O códio informado nao é valido por nao se enquadrar nas regras definidas"
      ],
      "metadata": {
        "id": "VlkI85YmKNEq"
      },
      "id": "VlkI85YmKNEq"
    },
    {
      "cell_type": "markdown",
      "id": "2cc838bf",
      "metadata": {
        "id": "2cc838bf"
      },
      "source": [
        "## Exercício 7\n",
        "Você trabalha para o Detran/SP e recebeu uma tarefa de separar as partes (letras e números) de uma determinada placa de veículo no modelo antigo. Faça um código que automatize essa separação. Use a placa ABC-1234 como exemplo."
      ]
    },
    {
      "cell_type": "markdown",
      "source": [],
      "metadata": {
        "id": "fdLlomn0KzxX"
      },
      "id": "fdLlomn0KzxX"
    },
    {
      "cell_type": "code",
      "source": [
        "placa = 'ABC-1234'\n",
        "\n",
        "def separar_placa(lista):\n",
        "  placa_letra = lista[:3]\n",
        "  placa_numero = lista[4:]\n",
        "  return placa_letra, placa_numero\n",
        "\n",
        "separar_placa(placa)"
      ],
      "metadata": {
        "colab": {
          "base_uri": "https://localhost:8080/"
        },
        "id": "YgmV_hKhMNkj",
        "outputId": "2f9b7e5f-1290-4098-ae3b-f5d792e1c131"
      },
      "id": "YgmV_hKhMNkj",
      "execution_count": 34,
      "outputs": [
        {
          "output_type": "execute_result",
          "data": {
            "text/plain": [
              "('ABC', '1234')"
            ]
          },
          "metadata": {},
          "execution_count": 34
        }
      ]
    },
    {
      "cell_type": "code",
      "execution_count": 42,
      "id": "82c890fb",
      "metadata": {
        "colab": {
          "base_uri": "https://localhost:8080/"
        },
        "id": "82c890fb",
        "outputId": "1e7a8e6f-7be0-4822-9f1f-93f35ad61790"
      },
      "outputs": [
        {
          "output_type": "stream",
          "name": "stdout",
          "text": [
            "Digite a placa do veículo: abc-1234\n",
            "Código inválido\n"
          ]
        }
      ],
      "source": [
        "# Versao melhorada\n",
        "# Coletar a placa\n",
        "placa = input('Digite a placa do veículo: ')\n",
        "\n",
        "def separar_placa(lista):\n",
        "  placa_letra = lista[:3]\n",
        "  placa_numero = lista[4:]\n",
        "  return placa_letra, placa_numero\n",
        "\n",
        "# Validar se a quantidade de caracteres sao validas\n",
        "if len(placa) != 8:\n",
        "  print('Código inválido !')\n",
        "  print('Quantidade de caracteres incorreto.')\n",
        "# Validar se os tres primeiros carateres sao letras de A a Z\n",
        "elif not ('A' <= placa[0] <= 'Z' and 'A' <= placa[1] <= 'Z' and 'A' <= placa[2] <= 'Z'):\n",
        "     print('Código inválido !')\n",
        "     print('Insira apenas letras maiusculas.')\n",
        "#Validar se tem o hifem entre letras e numeros\n",
        "elif placa[3] != '-':\n",
        "     print('Código inválido !')\n",
        "     print('Insira o \"-\" entra as letras e numeros.')\n",
        "# Validar se os numeros sao validos\n",
        "elif not ('0' <= placa[4] <= '9' and\n",
        "          '0' <= placa[5] <= '9' and\n",
        "          '0' <= placa[6] <= '9' and\n",
        "          '0' <= placa[7] <= '9'):\n",
        "         print('Código inválido !')\n",
        "         print('Os numeros devem ser de 0 e 9.')\n",
        "# Se for válido, separar (unpacking) e exibir formatado\n",
        "else:\n",
        "    letras, numeros = separar_placa(placa)\n",
        "    print('Placa válida!')\n",
        "    print(f'Letras da placa: {letras}')\n",
        "    print(f'Números da placa: {numeros}')"
      ]
    },
    {
      "cell_type": "code",
      "source": [],
      "metadata": {
        "id": "BToRphYcL6CP"
      },
      "id": "BToRphYcL6CP",
      "execution_count": null,
      "outputs": []
    }
  ],
  "metadata": {
    "colab": {
      "provenance": []
    },
    "language_info": {
      "name": "python"
    },
    "kernelspec": {
      "name": "python3",
      "display_name": "Python 3"
    }
  },
  "nbformat": 4,
  "nbformat_minor": 5
}